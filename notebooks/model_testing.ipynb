{
 "cells": [
  {
   "cell_type": "code",
   "execution_count": null,
   "id": "2d23ff05",
   "metadata": {},
   "outputs": [
    {
     "name": "stdout",
     "output_type": "stream",
     "text": [
      "Current working directory is c:\\Users\\blond\\Documents\\NssProjects\\sleigh_the_model\n"
     ]
    }
   ],
   "source": [
    "import os\n",
    "os.getcwd()\n",
    "# os.chdir('..')\n",
    "print(f'Current working directory is {os.getcwd()}')"
   ]
  },
  {
   "cell_type": "code",
   "execution_count": 2,
   "id": "bf3d936b",
   "metadata": {},
   "outputs": [],
   "source": [
    "import pandas as pd\n",
    "import scripts.features as ft"
   ]
  },
  {
   "cell_type": "code",
   "execution_count": 3,
   "id": "62b76eda",
   "metadata": {},
   "outputs": [],
   "source": [
    "file = 'data/dataformodel.csv'"
   ]
  },
  {
   "cell_type": "code",
   "execution_count": 4,
   "id": "2da1068b",
   "metadata": {},
   "outputs": [],
   "source": [
    "data = ft.load_data(file, 3)"
   ]
  },
  {
   "cell_type": "code",
   "execution_count": 5,
   "id": "68f90774",
   "metadata": {},
   "outputs": [],
   "source": [
    "features_to_lag = [\n",
    "    'pce',\n",
    "    'inflation',\n",
    "    'unemployment_rate',\n",
    "    'revolving_credit',\n",
    "    'nonrevolving_credit',\n",
    "    'total_credit'\n",
    "]"
   ]
  },
  {
   "cell_type": "code",
   "execution_count": 7,
   "id": "ecc210e8",
   "metadata": {},
   "outputs": [],
   "source": [
    "data_with_lag = ft.add_lag_features(data, 3, features_to_lag)"
   ]
  }
 ],
 "metadata": {
  "kernelspec": {
   "display_name": "base",
   "language": "python",
   "name": "python3"
  },
  "language_info": {
   "codemirror_mode": {
    "name": "ipython",
    "version": 3
   },
   "file_extension": ".py",
   "mimetype": "text/x-python",
   "name": "python",
   "nbconvert_exporter": "python",
   "pygments_lexer": "ipython3",
   "version": "3.12.3"
  }
 },
 "nbformat": 4,
 "nbformat_minor": 5
}
