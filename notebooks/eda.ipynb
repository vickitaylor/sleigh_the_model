{
 "cells": [
  {
   "cell_type": "code",
   "execution_count": 1,
   "id": "e252dc5e",
   "metadata": {},
   "outputs": [],
   "source": [
    "import pandas as pd"
   ]
  },
  {
   "cell_type": "code",
   "execution_count": 50,
   "id": "60807863",
   "metadata": {},
   "outputs": [],
   "source": [
    "inflation = pd.read_csv('../data/inflation_fred.csv')"
   ]
  },
  {
   "cell_type": "code",
   "execution_count": 57,
   "id": "51ba5865",
   "metadata": {},
   "outputs": [
    {
     "data": {
      "text/html": [
       "<div>\n",
       "<style scoped>\n",
       "    .dataframe tbody tr th:only-of-type {\n",
       "        vertical-align: middle;\n",
       "    }\n",
       "\n",
       "    .dataframe tbody tr th {\n",
       "        vertical-align: top;\n",
       "    }\n",
       "\n",
       "    .dataframe thead th {\n",
       "        text-align: right;\n",
       "    }\n",
       "</style>\n",
       "<table border=\"1\" class=\"dataframe\">\n",
       "  <thead>\n",
       "    <tr style=\"text-align: right;\">\n",
       "      <th></th>\n",
       "      <th>CPIAUCSL</th>\n",
       "      <th>date</th>\n",
       "    </tr>\n",
       "  </thead>\n",
       "  <tbody>\n",
       "    <tr>\n",
       "      <th>0</th>\n",
       "      <td>29.01</td>\n",
       "      <td>1959-01-01</td>\n",
       "    </tr>\n",
       "    <tr>\n",
       "      <th>1</th>\n",
       "      <td>29.00</td>\n",
       "      <td>1959-02-01</td>\n",
       "    </tr>\n",
       "    <tr>\n",
       "      <th>2</th>\n",
       "      <td>28.97</td>\n",
       "      <td>1959-03-01</td>\n",
       "    </tr>\n",
       "    <tr>\n",
       "      <th>3</th>\n",
       "      <td>28.98</td>\n",
       "      <td>1959-04-01</td>\n",
       "    </tr>\n",
       "    <tr>\n",
       "      <th>4</th>\n",
       "      <td>29.04</td>\n",
       "      <td>1959-05-01</td>\n",
       "    </tr>\n",
       "  </tbody>\n",
       "</table>\n",
       "</div>"
      ],
      "text/plain": [
       "   CPIAUCSL       date\n",
       "0     29.01 1959-01-01\n",
       "1     29.00 1959-02-01\n",
       "2     28.97 1959-03-01\n",
       "3     28.98 1959-04-01\n",
       "4     29.04 1959-05-01"
      ]
     },
     "execution_count": 57,
     "metadata": {},
     "output_type": "execute_result"
    }
   ],
   "source": [
    "inflation.head()"
   ]
  },
  {
   "cell_type": "code",
   "execution_count": 54,
   "id": "37500d7f",
   "metadata": {},
   "outputs": [],
   "source": [
    "# changing to datetime format as the other dataset \n",
    "inflation['date'] = pd.to_datetime(inflation['observation_date'], format='%m/%d/%Y', errors='coerce')"
   ]
  },
  {
   "cell_type": "code",
   "execution_count": 56,
   "id": "fea218cc",
   "metadata": {},
   "outputs": [],
   "source": [
    "inflation = inflation.drop(columns=['observation_date'])"
   ]
  },
  {
   "cell_type": "code",
   "execution_count": 13,
   "id": "04fbd378",
   "metadata": {},
   "outputs": [],
   "source": [
    "unemployment = pd.read_csv('../data/unemployment_bls.csv', skiprows = 11)"
   ]
  },
  {
   "cell_type": "code",
   "execution_count": 110,
   "id": "a790c37f",
   "metadata": {},
   "outputs": [
    {
     "data": {
      "text/html": [
       "<div>\n",
       "<style scoped>\n",
       "    .dataframe tbody tr th:only-of-type {\n",
       "        vertical-align: middle;\n",
       "    }\n",
       "\n",
       "    .dataframe tbody tr th {\n",
       "        vertical-align: top;\n",
       "    }\n",
       "\n",
       "    .dataframe thead th {\n",
       "        text-align: right;\n",
       "    }\n",
       "</style>\n",
       "<table border=\"1\" class=\"dataframe\">\n",
       "  <thead>\n",
       "    <tr style=\"text-align: right;\">\n",
       "      <th></th>\n",
       "      <th>Year</th>\n",
       "      <th>Jan</th>\n",
       "      <th>Feb</th>\n",
       "      <th>Mar</th>\n",
       "      <th>Apr</th>\n",
       "      <th>May</th>\n",
       "      <th>Jun</th>\n",
       "      <th>Jul</th>\n",
       "      <th>Aug</th>\n",
       "      <th>Sep</th>\n",
       "      <th>Oct</th>\n",
       "      <th>Nov</th>\n",
       "      <th>Dec</th>\n",
       "    </tr>\n",
       "  </thead>\n",
       "  <tbody>\n",
       "    <tr>\n",
       "      <th>0</th>\n",
       "      <td>1959</td>\n",
       "      <td>6.0</td>\n",
       "      <td>5.9</td>\n",
       "      <td>5.6</td>\n",
       "      <td>5.2</td>\n",
       "      <td>5.1</td>\n",
       "      <td>5.0</td>\n",
       "      <td>5.1</td>\n",
       "      <td>5.2</td>\n",
       "      <td>5.5</td>\n",
       "      <td>5.7</td>\n",
       "      <td>5.8</td>\n",
       "      <td>5.3</td>\n",
       "    </tr>\n",
       "    <tr>\n",
       "      <th>1</th>\n",
       "      <td>1960</td>\n",
       "      <td>5.2</td>\n",
       "      <td>4.8</td>\n",
       "      <td>5.4</td>\n",
       "      <td>5.2</td>\n",
       "      <td>5.1</td>\n",
       "      <td>5.4</td>\n",
       "      <td>5.5</td>\n",
       "      <td>5.6</td>\n",
       "      <td>5.5</td>\n",
       "      <td>6.1</td>\n",
       "      <td>6.1</td>\n",
       "      <td>6.6</td>\n",
       "    </tr>\n",
       "    <tr>\n",
       "      <th>2</th>\n",
       "      <td>1961</td>\n",
       "      <td>6.6</td>\n",
       "      <td>6.9</td>\n",
       "      <td>6.9</td>\n",
       "      <td>7.0</td>\n",
       "      <td>7.1</td>\n",
       "      <td>6.9</td>\n",
       "      <td>7.0</td>\n",
       "      <td>6.6</td>\n",
       "      <td>6.7</td>\n",
       "      <td>6.5</td>\n",
       "      <td>6.1</td>\n",
       "      <td>6.0</td>\n",
       "    </tr>\n",
       "    <tr>\n",
       "      <th>3</th>\n",
       "      <td>1962</td>\n",
       "      <td>5.8</td>\n",
       "      <td>5.5</td>\n",
       "      <td>5.6</td>\n",
       "      <td>5.6</td>\n",
       "      <td>5.5</td>\n",
       "      <td>5.5</td>\n",
       "      <td>5.4</td>\n",
       "      <td>5.7</td>\n",
       "      <td>5.6</td>\n",
       "      <td>5.4</td>\n",
       "      <td>5.7</td>\n",
       "      <td>5.5</td>\n",
       "    </tr>\n",
       "    <tr>\n",
       "      <th>4</th>\n",
       "      <td>1963</td>\n",
       "      <td>5.7</td>\n",
       "      <td>5.9</td>\n",
       "      <td>5.7</td>\n",
       "      <td>5.7</td>\n",
       "      <td>5.9</td>\n",
       "      <td>5.6</td>\n",
       "      <td>5.6</td>\n",
       "      <td>5.4</td>\n",
       "      <td>5.5</td>\n",
       "      <td>5.5</td>\n",
       "      <td>5.7</td>\n",
       "      <td>5.5</td>\n",
       "    </tr>\n",
       "  </tbody>\n",
       "</table>\n",
       "</div>"
      ],
      "text/plain": [
       "   Year  Jan  Feb  Mar  Apr  May  Jun  Jul  Aug  Sep  Oct  Nov  Dec\n",
       "0  1959  6.0  5.9  5.6  5.2  5.1  5.0  5.1  5.2  5.5  5.7  5.8  5.3\n",
       "1  1960  5.2  4.8  5.4  5.2  5.1  5.4  5.5  5.6  5.5  6.1  6.1  6.6\n",
       "2  1961  6.6  6.9  6.9  7.0  7.1  6.9  7.0  6.6  6.7  6.5  6.1  6.0\n",
       "3  1962  5.8  5.5  5.6  5.6  5.5  5.5  5.4  5.7  5.6  5.4  5.7  5.5\n",
       "4  1963  5.7  5.9  5.7  5.7  5.9  5.6  5.6  5.4  5.5  5.5  5.7  5.5"
      ]
     },
     "execution_count": 110,
     "metadata": {},
     "output_type": "execute_result"
    }
   ],
   "source": [
    "unemployment.head()"
   ]
  },
  {
   "cell_type": "code",
   "execution_count": 18,
   "id": "89417c03",
   "metadata": {},
   "outputs": [],
   "source": [
    "month_mapping = {'Jan': '01', 'Feb': '02', 'Mar': '03',\n",
    "                 'Apr': '04', 'May': '05', 'Jun': '06',\n",
    "                 'Jul': '07', 'Aug': '08', 'Sep': '09',\n",
    "                 'Oct': '10', 'Nov': '11', 'Dec': '12'}"
   ]
  },
  {
   "cell_type": "code",
   "execution_count": 41,
   "id": "a620b28f",
   "metadata": {},
   "outputs": [],
   "source": [
    "unemployment_long = pd.melt(unemployment, \n",
    "        id_vars = ['Year'],\n",
    "        var_name = 'Month', \n",
    "        value_name= 'unemployment_rate'\n",
    "        )"
   ]
  },
  {
   "cell_type": "code",
   "execution_count": 43,
   "id": "98dd050b",
   "metadata": {},
   "outputs": [],
   "source": [
    "unemployment_long['month_num'] = unemployment_long['Month'].map(month_mapping)"
   ]
  },
  {
   "cell_type": "code",
   "execution_count": 44,
   "id": "e0020505",
   "metadata": {},
   "outputs": [],
   "source": [
    "unemployment_long['date'] =unemployment_long['Year'].astype(str) + '-' + unemployment_long['month_num'] "
   ]
  },
  {
   "cell_type": "code",
   "execution_count": 45,
   "id": "d65c9d35",
   "metadata": {},
   "outputs": [],
   "source": [
    "unemployment_long['date'] = pd.to_datetime(unemployment_long['date'], format='%Y-%m', errors='coerce')"
   ]
  },
  {
   "cell_type": "code",
   "execution_count": 46,
   "id": "7cba5318",
   "metadata": {},
   "outputs": [],
   "source": [
    "unemployment_long = unemployment_long.drop(columns = ['Year', 'Month', 'month_num'])"
   ]
  },
  {
   "cell_type": "code",
   "execution_count": 47,
   "id": "221d5114",
   "metadata": {},
   "outputs": [
    {
     "data": {
      "text/html": [
       "<div>\n",
       "<style scoped>\n",
       "    .dataframe tbody tr th:only-of-type {\n",
       "        vertical-align: middle;\n",
       "    }\n",
       "\n",
       "    .dataframe tbody tr th {\n",
       "        vertical-align: top;\n",
       "    }\n",
       "\n",
       "    .dataframe thead th {\n",
       "        text-align: right;\n",
       "    }\n",
       "</style>\n",
       "<table border=\"1\" class=\"dataframe\">\n",
       "  <thead>\n",
       "    <tr style=\"text-align: right;\">\n",
       "      <th></th>\n",
       "      <th>unemployment_rate</th>\n",
       "      <th>date</th>\n",
       "    </tr>\n",
       "  </thead>\n",
       "  <tbody>\n",
       "    <tr>\n",
       "      <th>0</th>\n",
       "      <td>6.0</td>\n",
       "      <td>1959-01-01</td>\n",
       "    </tr>\n",
       "    <tr>\n",
       "      <th>1</th>\n",
       "      <td>5.2</td>\n",
       "      <td>1960-01-01</td>\n",
       "    </tr>\n",
       "    <tr>\n",
       "      <th>2</th>\n",
       "      <td>6.6</td>\n",
       "      <td>1961-01-01</td>\n",
       "    </tr>\n",
       "    <tr>\n",
       "      <th>3</th>\n",
       "      <td>5.8</td>\n",
       "      <td>1962-01-01</td>\n",
       "    </tr>\n",
       "    <tr>\n",
       "      <th>4</th>\n",
       "      <td>5.7</td>\n",
       "      <td>1963-01-01</td>\n",
       "    </tr>\n",
       "  </tbody>\n",
       "</table>\n",
       "</div>"
      ],
      "text/plain": [
       "   unemployment_rate       date\n",
       "0                6.0 1959-01-01\n",
       "1                5.2 1960-01-01\n",
       "2                6.6 1961-01-01\n",
       "3                5.8 1962-01-01\n",
       "4                5.7 1963-01-01"
      ]
     },
     "execution_count": 47,
     "metadata": {},
     "output_type": "execute_result"
    }
   ],
   "source": [
    "unemployment_long.head()"
   ]
  },
  {
   "cell_type": "code",
   "execution_count": 95,
   "id": "4d98739c",
   "metadata": {},
   "outputs": [],
   "source": [
    "debt = pd.read_csv('../data/debt_fed.csv')"
   ]
  },
  {
   "cell_type": "code",
   "execution_count": 109,
   "id": "e631d4be",
   "metadata": {},
   "outputs": [
    {
     "data": {
      "text/html": [
       "<div>\n",
       "<style scoped>\n",
       "    .dataframe tbody tr th:only-of-type {\n",
       "        vertical-align: middle;\n",
       "    }\n",
       "\n",
       "    .dataframe tbody tr th {\n",
       "        vertical-align: top;\n",
       "    }\n",
       "\n",
       "    .dataframe thead th {\n",
       "        text-align: right;\n",
       "    }\n",
       "</style>\n",
       "<table border=\"1\" class=\"dataframe\">\n",
       "  <thead>\n",
       "    <tr style=\"text-align: right;\">\n",
       "      <th></th>\n",
       "      <th>revolving_credit</th>\n",
       "      <th>nonrevolving_credit</th>\n",
       "      <th>total_credit</th>\n",
       "      <th>date</th>\n",
       "    </tr>\n",
       "  </thead>\n",
       "  <tbody>\n",
       "    <tr>\n",
       "      <th>5</th>\n",
       "      <td>NaN</td>\n",
       "      <td>6577.83</td>\n",
       "      <td>6577.83</td>\n",
       "      <td>1943-01-01</td>\n",
       "    </tr>\n",
       "    <tr>\n",
       "      <th>6</th>\n",
       "      <td>NaN</td>\n",
       "      <td>6463.04</td>\n",
       "      <td>6463.04</td>\n",
       "      <td>1943-02-01</td>\n",
       "    </tr>\n",
       "    <tr>\n",
       "      <th>7</th>\n",
       "      <td>NaN</td>\n",
       "      <td>6234.21</td>\n",
       "      <td>6234.21</td>\n",
       "      <td>1943-03-01</td>\n",
       "    </tr>\n",
       "    <tr>\n",
       "      <th>8</th>\n",
       "      <td>NaN</td>\n",
       "      <td>6125.75</td>\n",
       "      <td>6125.75</td>\n",
       "      <td>1943-04-01</td>\n",
       "    </tr>\n",
       "    <tr>\n",
       "      <th>9</th>\n",
       "      <td>NaN</td>\n",
       "      <td>5936.26</td>\n",
       "      <td>5936.26</td>\n",
       "      <td>1943-05-01</td>\n",
       "    </tr>\n",
       "    <tr>\n",
       "      <th>10</th>\n",
       "      <td>NaN</td>\n",
       "      <td>5822.23</td>\n",
       "      <td>5822.23</td>\n",
       "      <td>1943-06-01</td>\n",
       "    </tr>\n",
       "    <tr>\n",
       "      <th>11</th>\n",
       "      <td>NaN</td>\n",
       "      <td>5718.37</td>\n",
       "      <td>5718.37</td>\n",
       "      <td>1943-07-01</td>\n",
       "    </tr>\n",
       "    <tr>\n",
       "      <th>12</th>\n",
       "      <td>NaN</td>\n",
       "      <td>5638.75</td>\n",
       "      <td>5638.75</td>\n",
       "      <td>1943-08-01</td>\n",
       "    </tr>\n",
       "    <tr>\n",
       "      <th>13</th>\n",
       "      <td>NaN</td>\n",
       "      <td>5647.59</td>\n",
       "      <td>5647.59</td>\n",
       "      <td>1943-09-01</td>\n",
       "    </tr>\n",
       "    <tr>\n",
       "      <th>14</th>\n",
       "      <td>NaN</td>\n",
       "      <td>5650.74</td>\n",
       "      <td>5650.74</td>\n",
       "      <td>1943-10-01</td>\n",
       "    </tr>\n",
       "    <tr>\n",
       "      <th>15</th>\n",
       "      <td>NaN</td>\n",
       "      <td>5576.87</td>\n",
       "      <td>5576.87</td>\n",
       "      <td>1943-11-01</td>\n",
       "    </tr>\n",
       "    <tr>\n",
       "      <th>16</th>\n",
       "      <td>NaN</td>\n",
       "      <td>5462.52</td>\n",
       "      <td>5462.52</td>\n",
       "      <td>1943-12-01</td>\n",
       "    </tr>\n",
       "    <tr>\n",
       "      <th>17</th>\n",
       "      <td>NaN</td>\n",
       "      <td>5398.57</td>\n",
       "      <td>5398.57</td>\n",
       "      <td>1944-01-01</td>\n",
       "    </tr>\n",
       "    <tr>\n",
       "      <th>18</th>\n",
       "      <td>NaN</td>\n",
       "      <td>5354.36</td>\n",
       "      <td>5354.36</td>\n",
       "      <td>1944-02-01</td>\n",
       "    </tr>\n",
       "    <tr>\n",
       "      <th>19</th>\n",
       "      <td>NaN</td>\n",
       "      <td>5370.36</td>\n",
       "      <td>5370.36</td>\n",
       "      <td>1944-03-01</td>\n",
       "    </tr>\n",
       "  </tbody>\n",
       "</table>\n",
       "</div>"
      ],
      "text/plain": [
       "   revolving_credit nonrevolving_credit total_credit       date\n",
       "5               NaN             6577.83      6577.83 1943-01-01\n",
       "6               NaN             6463.04      6463.04 1943-02-01\n",
       "7               NaN             6234.21      6234.21 1943-03-01\n",
       "8               NaN             6125.75      6125.75 1943-04-01\n",
       "9               NaN             5936.26      5936.26 1943-05-01\n",
       "10              NaN             5822.23      5822.23 1943-06-01\n",
       "11              NaN             5718.37      5718.37 1943-07-01\n",
       "12              NaN             5638.75      5638.75 1943-08-01\n",
       "13              NaN             5647.59      5647.59 1943-09-01\n",
       "14              NaN             5650.74      5650.74 1943-10-01\n",
       "15              NaN             5576.87      5576.87 1943-11-01\n",
       "16              NaN             5462.52      5462.52 1943-12-01\n",
       "17              NaN             5398.57      5398.57 1944-01-01\n",
       "18              NaN             5354.36      5354.36 1944-02-01\n",
       "19              NaN             5370.36      5370.36 1944-03-01"
      ]
     },
     "execution_count": 109,
     "metadata": {},
     "output_type": "execute_result"
    }
   ],
   "source": [
    "debt.head(15)"
   ]
  },
  {
   "cell_type": "code",
   "execution_count": 97,
   "id": "e70d52ff",
   "metadata": {},
   "outputs": [],
   "source": [
    "debt.columns = debt.columns.str.strip()\n",
    "\n",
    "debt = debt[['Series Description', \n",
    "             'Revolving consumer credit owned and securitized, seasonally adjusted level', \n",
    "             'Nonrevolving consumer credit owned and securitized, seasonally adjusted level', \n",
    "             'Total consumer credit owned and securitized, seasonally adjusted level']]"
   ]
  },
  {
   "cell_type": "code",
   "execution_count": 98,
   "id": "7f97e19d",
   "metadata": {},
   "outputs": [],
   "source": [
    "# removing the first five rows to remove informational rows\n",
    "debt = debt.iloc[5:]"
   ]
  },
  {
   "cell_type": "code",
   "execution_count": 103,
   "id": "3ca3d6ec",
   "metadata": {},
   "outputs": [],
   "source": [
    "debt['date'] = pd.to_datetime(debt['Series Description'], format='%Y-%m', errors='coerce')"
   ]
  },
  {
   "cell_type": "code",
   "execution_count": 105,
   "id": "ae2e8354",
   "metadata": {},
   "outputs": [],
   "source": [
    "debt = debt.drop(columns=['Series Description'])"
   ]
  },
  {
   "cell_type": "code",
   "execution_count": 108,
   "id": "0c9fd611",
   "metadata": {},
   "outputs": [],
   "source": [
    "debt.rename(columns = {\n",
    "    'Revolving consumer credit owned and securitized, seasonally adjusted level': 'revolving_credit',\n",
    "    'Nonrevolving consumer credit owned and securitized, seasonally adjusted level': 'nonrevolving_credit',\n",
    "    'Total consumer credit owned and securitized, seasonally adjusted level': 'total_credit'\n",
    "}, inplace=True)\n"
   ]
  }
 ],
 "metadata": {
  "kernelspec": {
   "display_name": "base",
   "language": "python",
   "name": "python3"
  },
  "language_info": {
   "codemirror_mode": {
    "name": "ipython",
    "version": 3
   },
   "file_extension": ".py",
   "mimetype": "text/x-python",
   "name": "python",
   "nbconvert_exporter": "python",
   "pygments_lexer": "ipython3",
   "version": "3.12.3"
  }
 },
 "nbformat": 4,
 "nbformat_minor": 5
}
